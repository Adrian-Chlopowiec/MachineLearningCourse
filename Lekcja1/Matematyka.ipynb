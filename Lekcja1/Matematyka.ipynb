{
 "cells": [
  {
   "cell_type": "code",
   "execution_count": 1,
   "metadata": {},
   "outputs": [],
   "source": [
    "import numpy as np"
   ]
  },
  {
   "cell_type": "markdown",
   "metadata": {},
   "source": [
    "# Tworzenie wektora"
   ]
  },
  {
   "cell_type": "code",
   "execution_count": 2,
   "metadata": {},
   "outputs": [
    {
     "name": "stdout",
     "output_type": "stream",
     "text": [
      "[1. 2. 3. 4.]\n",
      "<class 'numpy.ndarray'>\n",
      "(4,)\n"
     ]
    }
   ],
   "source": [
    "# stworzenie wektora o długości 4\n",
    "v = np.array([1, 2, 3, 4], dtype=np.float32)\n",
    "print(v)\n",
    "print(type(v))\n",
    "print(v.shape)"
   ]
  },
  {
   "cell_type": "code",
   "execution_count": 3,
   "metadata": {},
   "outputs": [
    {
     "name": "stdout",
     "output_type": "stream",
     "text": [
      "<class 'list'>\n",
      "<class 'numpy.ndarray'>\n"
     ]
    }
   ],
   "source": [
    "# możemy też przekonwertować zwykłą listę\n",
    "lista = [1, 2, 3]\n",
    "print(type(lista))\n",
    "k = np.array(lista)\n",
    "print(type(k))"
   ]
  },
  {
   "cell_type": "markdown",
   "metadata": {},
   "source": [
    "# Dodawanie i odejmowanie wektorów"
   ]
  },
  {
   "cell_type": "code",
   "execution_count": 4,
   "metadata": {},
   "outputs": [
    {
     "name": "stdout",
     "output_type": "stream",
     "text": [
      "v + w: [1.1 2.2 3.3 4.4]\n",
      "v - w: [0.9 1.8 2.7 3.6]\n"
     ]
    }
   ],
   "source": [
    "v = np.array([1, 2, 3, 4], dtype=np.float32)\n",
    "w = np.array([0.1, 0.2, 0.3, 0.4], dtype=np.float32)\n",
    "print(f'v + w: {v + w}')\n",
    "print(f'v - w: {v - w}')"
   ]
  },
  {
   "cell_type": "markdown",
   "metadata": {},
   "source": [
    "# Mnożenie wektora przez skalar"
   ]
  },
  {
   "cell_type": "code",
   "execution_count": 5,
   "metadata": {},
   "outputs": [
    {
     "name": "stdout",
     "output_type": "stream",
     "text": [
      "a * v: [ 5. 10. 15. 20.]\n"
     ]
    }
   ],
   "source": [
    "v = np.array([1, 2, 3, 4], dtype=np.float32)\n",
    "a = 5\n",
    "print(f'a * v: {a * v}')"
   ]
  },
  {
   "cell_type": "markdown",
   "metadata": {},
   "source": [
    "# Iloczyn skalarny"
   ]
  },
  {
   "cell_type": "code",
   "execution_count": 6,
   "metadata": {},
   "outputs": [
    {
     "name": "stdout",
     "output_type": "stream",
     "text": [
      "v o w: 321\n",
      "v @ w: 321\n"
     ]
    }
   ],
   "source": [
    "v = np.array([1, 2, 3])\n",
    "w = np.array([1, 10, 100])\n",
    "\n",
    "a = np.dot(v, w)\n",
    "b = v @ w\n",
    "\n",
    "print(f'v o w: {a}')\n",
    "print(f'v @ w: {b}')"
   ]
  },
  {
   "cell_type": "markdown",
   "metadata": {},
   "source": [
    "# Tworzenie macierzy"
   ]
  },
  {
   "cell_type": "code",
   "execution_count": 7,
   "metadata": {},
   "outputs": [
    {
     "name": "stdout",
     "output_type": "stream",
     "text": [
      "[[1 2 3]\n",
      " [4 5 6]]\n",
      "<class 'numpy.ndarray'>\n",
      "(2, 3)\n",
      "Wyraz 1, 0: 4\n"
     ]
    }
   ],
   "source": [
    "A = np.array([[1, 2, 3],\n",
    "              [4, 5, 6]], dtype=np.int32)\n",
    "print(A)\n",
    "print(type(A))\n",
    "print(A.shape)\n",
    "print(f'Wyraz 1, 0: {A[1, 0]}')"
   ]
  },
  {
   "cell_type": "code",
   "execution_count": 8,
   "metadata": {},
   "outputs": [
    {
     "name": "stdout",
     "output_type": "stream",
     "text": [
      "[[1 2 3]]\n",
      "(1, 3)\n"
     ]
    }
   ],
   "source": [
    "# możemy też stworzyć sztuczny wektor wierszowy...\n",
    "v = np.array([[1, 2, 3]])\n",
    "print(v)\n",
    "print(v.shape)"
   ]
  },
  {
   "cell_type": "code",
   "execution_count": 9,
   "metadata": {},
   "outputs": [
    {
     "name": "stdout",
     "output_type": "stream",
     "text": [
      "[[1]\n",
      " [2]\n",
      " [3]]\n",
      "(3, 1)\n"
     ]
    }
   ],
   "source": [
    "# ...oraz sztuczny kolumnowy\n",
    "a = np.array([[1], [2], [3]])\n",
    "print(a)\n",
    "print(a.shape)\n",
    "# UWAGA, NUMPY NIE TRAKTUJE TEGO JAK WEKTORY, ALE JAK MACIERZE!"
   ]
  },
  {
   "cell_type": "markdown",
   "metadata": {},
   "source": [
    "# Operacje na wycinkach"
   ]
  },
  {
   "cell_type": "code",
   "execution_count": 10,
   "metadata": {},
   "outputs": [
    {
     "name": "stdout",
     "output_type": "stream",
     "text": [
      "[[1 2 3]\n",
      " [4 5 6]]\n",
      "\n",
      "=================================\n",
      "\n",
      "Bierzemy całą pierwszą kolumnę używając A[:, 0]: [1 4]\n",
      "Typ kolumny: <class 'numpy.ndarray'> oraz jej wymiary: (2,)\n",
      "\n",
      "=================================\n",
      "\n",
      "Bierzemy cały pierwszy wiersz używając A[0, :]: [1 2 3]\n",
      "Typ wiersza: <class 'numpy.ndarray'> oraz jego wymiary: (3,)\n",
      "\n",
      "=================================\n",
      "\n",
      "Pierwsze dwie kolumny używając A[:, :2]:\n",
      " [[1 2]\n",
      " [4 5]]\n",
      "Typ nowej macierzy: <class 'numpy.ndarray'> oraz jej wymiary: (2, 2)\n"
     ]
    }
   ],
   "source": [
    "A = np.array([[1, 2, 3],\n",
    "              [4, 5, 6]], dtype=np.int32)\n",
    "# wypiszmy macierz\n",
    "print(A)\n",
    "print('\\n=================================\\n')\n",
    "# weźmy całą pierwszą kolumnę\n",
    "a = A[:, 0]\n",
    "print(f'Bierzemy całą pierwszą kolumnę używając A[:, 0]: {a}')\n",
    "print(f'Typ kolumny: {type(a)} oraz jej wymiary: {a.shape}')\n",
    "print('\\n=================================\\n')\n",
    "# weźmy teraz cały pierwszy wiersz\n",
    "b = A[0, :]\n",
    "print(f'Bierzemy cały pierwszy wiersz używając A[0, :]: {b}')\n",
    "print(f'Typ wiersza: {type(b)} oraz jego wymiary: {b.shape}')\n",
    "print('\\n=================================\\n')\n",
    "\n",
    "# weźmy wszystkie wyrazy do drugiej kolumny\n",
    "B = A[:, :2]\n",
    "print(f'Pierwsze dwie kolumny używając A[:, :2]:\\n {B}')\n",
    "print(f'Typ nowej macierzy: {type(B)} oraz jej wymiary: {B.shape}')"
   ]
  },
  {
   "cell_type": "markdown",
   "metadata": {},
   "source": [
    "# Dodawanie macierzy"
   ]
  },
  {
   "cell_type": "code",
   "execution_count": 11,
   "metadata": {},
   "outputs": [
    {
     "name": "stdout",
     "output_type": "stream",
     "text": [
      "[[1.1 2.2]\n",
      " [3.3 4.4]]\n"
     ]
    }
   ],
   "source": [
    "A = np.array([[1, 2], [3, 4]])\n",
    "B = np.array([[0.1, 0.2], [0.3, 0.4]])\n",
    "print(A + B)"
   ]
  },
  {
   "cell_type": "markdown",
   "metadata": {},
   "source": [
    "# Mnożenie przez skalar"
   ]
  },
  {
   "cell_type": "code",
   "execution_count": 12,
   "metadata": {},
   "outputs": [
    {
     "name": "stdout",
     "output_type": "stream",
     "text": [
      "[[10 20]\n",
      " [30 40]]\n"
     ]
    }
   ],
   "source": [
    "A = np.array([[1, 2], [3, 4]])\n",
    "b = 10\n",
    "print(b * A)"
   ]
  },
  {
   "cell_type": "markdown",
   "metadata": {},
   "source": [
    "# Mnożenie macierzy"
   ]
  },
  {
   "cell_type": "code",
   "execution_count": 13,
   "metadata": {},
   "outputs": [
    {
     "name": "stdout",
     "output_type": "stream",
     "text": [
      "[[ 31.5  35.   62.3]\n",
      " [ 63.9  71.6 126.5]\n",
      " [ 96.3 108.2 190.7]\n",
      " [128.7 144.8 254.9]]\n"
     ]
    }
   ],
   "source": [
    "A = np.array([[1, 2, 3], [4, 5, 6], [7, 8, 9], [10, 11, 12]])\n",
    "B = np.array([[0.1, 0.4, 0.5], [0.7, 0.8, 0.9], [10, 11, 20]])\n",
    "print(np.dot(A, B))"
   ]
  },
  {
   "cell_type": "markdown",
   "metadata": {},
   "source": [
    "# Mnożenie macierzy przez wektor"
   ]
  },
  {
   "cell_type": "code",
   "execution_count": 14,
   "metadata": {},
   "outputs": [
    {
     "name": "stdout",
     "output_type": "stream",
     "text": [
      "Wymiary A: (2, 3)\n",
      "Wymiary v: (3,)\n",
      "\n",
      "A o v: [421 765]\n"
     ]
    },
    {
     "ename": "ValueError",
     "evalue": "shapes (3,) and (2,3) not aligned: 3 (dim 0) != 2 (dim 0)",
     "output_type": "error",
     "traceback": [
      "\u001b[1;31m---------------------------------------------------------------------------\u001b[0m",
      "\u001b[1;31mValueError\u001b[0m                                Traceback (most recent call last)",
      "\u001b[1;32m<ipython-input-14-0e052f33560c>\u001b[0m in \u001b[0;36m<module>\u001b[1;34m\u001b[0m\n\u001b[0;32m      8\u001b[0m \u001b[0mprint\u001b[0m\u001b[1;33m(\u001b[0m\u001b[1;34mf'A o v: {np.dot(A, v)}'\u001b[0m\u001b[1;33m)\u001b[0m\u001b[1;33m\u001b[0m\u001b[1;33m\u001b[0m\u001b[0m\n\u001b[0;32m      9\u001b[0m \u001b[1;31m# Oczywiście! A w drugą stronę, v o A?\u001b[0m\u001b[1;33m\u001b[0m\u001b[1;33m\u001b[0m\u001b[1;33m\u001b[0m\u001b[0m\n\u001b[1;32m---> 10\u001b[1;33m \u001b[0mprint\u001b[0m\u001b[1;33m(\u001b[0m\u001b[1;34mf'v o A: {np.dot(v, A)}'\u001b[0m\u001b[1;33m)\u001b[0m\u001b[1;33m\u001b[0m\u001b[1;33m\u001b[0m\u001b[0m\n\u001b[0m\u001b[0;32m     11\u001b[0m \u001b[1;31m# NOPE\u001b[0m\u001b[1;33m\u001b[0m\u001b[1;33m\u001b[0m\u001b[1;33m\u001b[0m\u001b[0m\n",
      "\u001b[1;32m<__array_function__ internals>\u001b[0m in \u001b[0;36mdot\u001b[1;34m(*args, **kwargs)\u001b[0m\n",
      "\u001b[1;31mValueError\u001b[0m: shapes (3,) and (2,3) not aligned: 3 (dim 0) != 2 (dim 0)"
     ]
    }
   ],
   "source": [
    "A = np.array([[1, 2, 4], [5, 6, 7]])\n",
    "v = np.array([1, 10, 100])\n",
    "print(f'Wymiary A: {A.shape}')\n",
    "print(f'Wymiary v: {v.shape}\\n')\n",
    "\n",
    "# damy radę?\n",
    "# A o v, damy radę?\n",
    "print(f'A o v: {np.dot(A, v)}')\n",
    "# Oczywiście! A w drugą stronę, v o A?\n",
    "print(f'v o A: {np.dot(v, A)}')\n",
    "# NOPE"
   ]
  },
  {
   "cell_type": "code",
   "execution_count": 15,
   "metadata": {},
   "outputs": [
    {
     "name": "stdout",
     "output_type": "stream",
     "text": [
      "Wymiary A: (2, 2)\n",
      "Wymiary v: (2,)\n",
      "\n",
      "A o v: [21 43]\n",
      "v o A: [31 42]\n"
     ]
    }
   ],
   "source": [
    "# natomiast w takiej sytuacji:\n",
    "A = np.array([[1, 2], [3, 4]])\n",
    "v = np.array([1, 10])\n",
    "print(f'Wymiary A: {A.shape}')\n",
    "print(f'Wymiary v: {v.shape}\\n')\n",
    "\n",
    "# damy radę?\n",
    "print(f'A o v: {np.dot(A, v)}')\n",
    "print(f'v o A: {np.dot(v, A)}')"
   ]
  },
  {
   "cell_type": "markdown",
   "metadata": {},
   "source": [
    "# Transpozycja"
   ]
  },
  {
   "cell_type": "code",
   "execution_count": 16,
   "metadata": {},
   "outputs": [
    {
     "name": "stdout",
     "output_type": "stream",
     "text": [
      "Macierz A: \n",
      "[[1 2]\n",
      " [3 4]\n",
      " [5 6]]\n",
      "Wymiary: (3, 2)\n",
      "\n",
      "=================================\n",
      "\n",
      "Transponowana macierz A: \n",
      "[[1 3 5]\n",
      " [2 4 6]]\n",
      "Wymiary: (2, 3)\n"
     ]
    }
   ],
   "source": [
    "A = np.array([[1, 2], [3, 4], [5, 6]])\n",
    "print('Macierz A: ')\n",
    "print(A)\n",
    "print(f'Wymiary: {A.shape}')\n",
    "print('\\n=================================\\n')\n",
    "# po transpozycji\n",
    "print('Transponowana macierz A: ')\n",
    "print(A.T)\n",
    "print(f'Wymiary: {A.T.shape}')"
   ]
  },
  {
   "cell_type": "code",
   "execution_count": 17,
   "metadata": {},
   "outputs": [
    {
     "name": "stdout",
     "output_type": "stream",
     "text": [
      "Wektor v: [1 2 3]\n",
      "Wymiary: (3,)\n",
      "\n",
      "=================================\n",
      "\n",
      "Wektor v transponowany: [1 2 3]\n",
      "Wymiary: (3,)\n"
     ]
    }
   ],
   "source": [
    "# pytanie, czy możemy przetransponować wektor?\n",
    "v = np.array([1, 2, 3])\n",
    "print(f'Wektor v: {v}')\n",
    "print(f'Wymiary: {v.shape}')\n",
    "print('\\n=================================\\n')\n",
    "print(f'Wektor v transponowany: {v.T}')\n",
    "print(f'Wymiary: {v.T.shape}')\n",
    "# można, ale nic to nie zrobi!"
   ]
  },
  {
   "cell_type": "markdown",
   "metadata": {},
   "source": [
    "# Reshapowanie macierzy"
   ]
  },
  {
   "cell_type": "code",
   "execution_count": 18,
   "metadata": {},
   "outputs": [
    {
     "name": "stdout",
     "output_type": "stream",
     "text": [
      "Macierz A:\n",
      "[[1 2 3]\n",
      " [4 5 6]]\n",
      "Wymiary: (2, 3)\n",
      "\n",
      "=================================\n",
      "\n",
      "Macierz B:\n",
      "[[1]\n",
      " [2]\n",
      " [3]\n",
      " [4]\n",
      " [5]\n",
      " [6]]\n",
      "Wymiary: (6, 1)\n"
     ]
    }
   ],
   "source": [
    "A = np.array([[1, 2, 3], [4, 5, 6]])\n",
    "print('Macierz A:')\n",
    "print(A)\n",
    "print(f'Wymiary: {A.shape}')\n",
    "print('\\n=================================\\n')\n",
    "B = A.reshape(6, 1)\n",
    "print('Macierz B:')\n",
    "print(B)\n",
    "print(f'Wymiary: {B.shape}')"
   ]
  },
  {
   "cell_type": "code",
   "execution_count": 19,
   "metadata": {},
   "outputs": [
    {
     "name": "stdout",
     "output_type": "stream",
     "text": [
      "Macierz A:\n",
      "[[ 1  2]\n",
      " [ 3  4]\n",
      " [ 5  6]\n",
      " [ 7  8]\n",
      " [ 9 10]\n",
      " [11 12]]\n",
      "Wymiary: (6, 2)\n",
      "\n",
      "=================================\n",
      "\n",
      "Macierz B:\n",
      "[[ 1  2  3]\n",
      " [ 4  5  6]\n",
      " [ 7  8  9]\n",
      " [10 11 12]]\n",
      "Wymiary: (4, 3)\n"
     ]
    }
   ],
   "source": [
    "# jeżeli chcemy mieć konkretną ilość np. wierszy, ale nie chcemy liczyć ile to będzie kolumn, numpy zrobi to za nas\n",
    "A = np.array([[1, 2], [3, 4], [5, 6], [7, 8], [9, 10], [11, 12]])\n",
    "print('Macierz A:')\n",
    "print(A)\n",
    "print(f'Wymiary: {A.shape}')\n",
    "print('\\n=================================\\n')\n",
    "B = A.reshape(4, -1)\n",
    "print('Macierz B:')\n",
    "print(B)\n",
    "print(f'Wymiary: {B.shape}')"
   ]
  },
  {
   "cell_type": "markdown",
   "metadata": {},
   "source": [
    "# Przydatne funkcje dotyczące tworzenia wektorów i macierzy"
   ]
  },
  {
   "cell_type": "markdown",
   "metadata": {},
   "source": [
    "### a) tworzenie macierzy lub wektora zerowego "
   ]
  },
  {
   "cell_type": "code",
   "execution_count": 20,
   "metadata": {},
   "outputs": [
    {
     "name": "stdout",
     "output_type": "stream",
     "text": [
      "[[0. 0. 0. 0. 0.]\n",
      " [0. 0. 0. 0. 0.]]\n"
     ]
    }
   ],
   "source": [
    "A = np.zeros([2, 5])\n",
    "print(A)"
   ]
  },
  {
   "cell_type": "code",
   "execution_count": 21,
   "metadata": {},
   "outputs": [
    {
     "name": "stdout",
     "output_type": "stream",
     "text": [
      "[0. 0. 0.]\n"
     ]
    }
   ],
   "source": [
    "v = np.zeros(3)\n",
    "print(v)"
   ]
  },
  {
   "cell_type": "markdown",
   "metadata": {},
   "source": [
    "### b) tworzenie macierzy lub wektora wypełnionych jedynkami"
   ]
  },
  {
   "cell_type": "code",
   "execution_count": 22,
   "metadata": {},
   "outputs": [
    {
     "name": "stdout",
     "output_type": "stream",
     "text": [
      "[[1. 1. 1. 1. 1.]\n",
      " [1. 1. 1. 1. 1.]\n",
      " [1. 1. 1. 1. 1.]]\n"
     ]
    }
   ],
   "source": [
    "A = np.ones([3, 5])\n",
    "print(A)"
   ]
  },
  {
   "cell_type": "code",
   "execution_count": 23,
   "metadata": {},
   "outputs": [
    {
     "name": "stdout",
     "output_type": "stream",
     "text": [
      "[1. 1. 1. 1.]\n"
     ]
    }
   ],
   "source": [
    "v = np.ones(4)\n",
    "print(v)"
   ]
  },
  {
   "cell_type": "markdown",
   "metadata": {},
   "source": [
    "### c) dla innej wybranej liczby"
   ]
  },
  {
   "cell_type": "code",
   "execution_count": 24,
   "metadata": {},
   "outputs": [
    {
     "name": "stdout",
     "output_type": "stream",
     "text": [
      "[[11 11 11]\n",
      " [11 11 11]]\n"
     ]
    }
   ],
   "source": [
    "A = np.full([2, 3], 11)\n",
    "print(A)"
   ]
  },
  {
   "cell_type": "code",
   "execution_count": 25,
   "metadata": {},
   "outputs": [
    {
     "name": "stdout",
     "output_type": "stream",
     "text": [
      "[3.1 3.1 3.1]\n"
     ]
    }
   ],
   "source": [
    "v = np.full(3, 3.1)\n",
    "print(v)"
   ]
  },
  {
   "cell_type": "markdown",
   "metadata": {},
   "source": [
    "### d) tworzenie macierzy lub wektora z losowymi liczbami z zakresu [0, 1]"
   ]
  },
  {
   "cell_type": "code",
   "execution_count": 26,
   "metadata": {},
   "outputs": [
    {
     "name": "stdout",
     "output_type": "stream",
     "text": [
      "[[0.53055356 0.96199936]\n",
      " [0.29845058 0.15875713]\n",
      " [0.53372439 0.12715172]\n",
      " [0.4053255  0.41256908]]\n"
     ]
    }
   ],
   "source": [
    "A = np.random.sample([4, 2])\n",
    "print(A)"
   ]
  },
  {
   "cell_type": "code",
   "execution_count": 27,
   "metadata": {},
   "outputs": [
    {
     "name": "stdout",
     "output_type": "stream",
     "text": [
      "[0.14371497 0.37435565 0.15347719]\n"
     ]
    }
   ],
   "source": [
    "v = np.random.sample(3)\n",
    "print(v)"
   ]
  },
  {
   "cell_type": "markdown",
   "metadata": {},
   "source": [
    "### e) tworzenie wektora wartości [a, b) co n"
   ]
  },
  {
   "cell_type": "code",
   "execution_count": 28,
   "metadata": {},
   "outputs": [
    {
     "name": "stdout",
     "output_type": "stream",
     "text": [
      "[-5 -4 -3 -2 -1  0  1  2  3  4  5  6  7  8  9 10 11]\n"
     ]
    }
   ],
   "source": [
    "x = np.arange(-5, 12, 1)\n",
    "print(x)"
   ]
  },
  {
   "cell_type": "markdown",
   "metadata": {},
   "source": [
    "# Funkcje matematyczne w numpy "
   ]
  },
  {
   "cell_type": "raw",
   "metadata": {},
   "source": [
    "W numpy mamy wbudowane wiele funkcji, przykładowe:\n",
    "-np.exp\n",
    "-np.log\n",
    "-np.sin\n",
    "więcej znajdziecie w dokumentacji numpy"
   ]
  },
  {
   "cell_type": "code",
   "execution_count": 29,
   "metadata": {},
   "outputs": [
    {
     "name": "stdout",
     "output_type": "stream",
     "text": [
      "e^5: 148.4131591025766\n"
     ]
    }
   ],
   "source": [
    "a = 5\n",
    "print(f'e^5: {np.exp(5)}')"
   ]
  },
  {
   "cell_type": "code",
   "execution_count": 30,
   "metadata": {},
   "outputs": [
    {
     "name": "stdout",
     "output_type": "stream",
     "text": [
      "[[0.         3.14159265]\n",
      " [1.57079633 6.28318531]]\n",
      "\n",
      "=================================\n",
      "\n",
      "Użycie funkcji sinus na każdym wyrazie macierzy A: \n",
      "[[ 0.0000000e+00  1.2246468e-16]\n",
      " [ 1.0000000e+00 -2.4492936e-16]]\n"
     ]
    }
   ],
   "source": [
    "# funkcji możemy używać na wektorach i macierzach!\n",
    "A = np.array([[0, np.pi], [np.pi / 2, np.pi * 2]])\n",
    "print(A)\n",
    "print('\\n=================================\\n')\n",
    "print('Użycie funkcji sinus na każdym wyrazie macierzy A: ')\n",
    "print(np.sin(A))\n",
    "# UWAGA, wyrazy są zbliżone do rzeczywistych wartości, ale nie idealne!\n",
    "# takie przybliżenie jednak w zupełności nam wystarczą"
   ]
  },
  {
   "cell_type": "markdown",
   "metadata": {},
   "source": [
    "# Tworzenie własnych funkcji "
   ]
  },
  {
   "cell_type": "code",
   "execution_count": 31,
   "metadata": {},
   "outputs": [],
   "source": [
    "def funkcyjka(x):\n",
    "    return np.log(x) + x"
   ]
  },
  {
   "cell_type": "code",
   "execution_count": 32,
   "metadata": {},
   "outputs": [
    {
     "name": "stdout",
     "output_type": "stream",
     "text": [
      "Użycie naszej funkcji na tablicy x: [1.         2.69314718 4.09861229]\n"
     ]
    }
   ],
   "source": [
    "x = [1, 2, 3]\n",
    "print(f'Użycie naszej funkcji na tablicy x: {funkcyjka(x)}')"
   ]
  },
  {
   "cell_type": "markdown",
   "metadata": {},
   "source": [
    "# Obliczanie średniej, wariancji oraz odchylenia standardowego dla danych"
   ]
  },
  {
   "cell_type": "markdown",
   "metadata": {},
   "source": [
    "### a) dla wektorów"
   ]
  },
  {
   "cell_type": "code",
   "execution_count": 33,
   "metadata": {},
   "outputs": [
    {
     "name": "stdout",
     "output_type": "stream",
     "text": [
      "Średnia: 2.5\n",
      "Wariancja: 1.25\n",
      "Odchylenie standardowe: 1.118033988749895\n"
     ]
    }
   ],
   "source": [
    "x = np.array([1, 2, 3, 4])\n",
    "print(f'Średnia: {np.mean(x)}')\n",
    "print(f'Wariancja: {np.var(x)}')\n",
    "print(f'Odchylenie standardowe: {np.std(x)}')"
   ]
  },
  {
   "cell_type": "markdown",
   "metadata": {},
   "source": [
    "### b) dla macierzy "
   ]
  },
  {
   "cell_type": "code",
   "execution_count": 34,
   "metadata": {},
   "outputs": [
    {
     "name": "stdout",
     "output_type": "stream",
     "text": [
      "Macierz A:\n",
      "[[1 2]\n",
      " [3 4]]\n",
      "Średnia dla wszystkich wyrazów: 2.5\n",
      "Średnia dla kolumn: [2. 3.]\n",
      "Średnia dla wierszy: [1.5 3.5]\n"
     ]
    }
   ],
   "source": [
    "A = np.array([[1, 2], [3, 4]])\n",
    "# tutaj mamy kilka opcji:\n",
    "print('Macierz A:')\n",
    "print(A)\n",
    "# a) dla wszystkich wyrazów\n",
    "print(f'Średnia dla wszystkich wyrazów: {np.mean(A)}')\n",
    "# b) dla kolumn\n",
    "print(f'Średnia dla kolumn: {np.mean(A, axis=0)}')\n",
    "# c) dla wierszy\n",
    "print(f'Średnia dla wierszy: {np.mean(A, axis=1)}')\n",
    "# wynikiem tego jest WEKTOR, numpy rozróżnia wektory i macierze!\n",
    "# analogicznie możemy postępować dla innych funkcji statystycznych"
   ]
  },
  {
   "cell_type": "markdown",
   "metadata": {},
   "source": [
    "# Pozostałe przydatne funkcje"
   ]
  },
  {
   "cell_type": "code",
   "execution_count": 35,
   "metadata": {},
   "outputs": [
    {
     "name": "stdout",
     "output_type": "stream",
     "text": [
      "[2 3 4 5 6 7 8 9]\n",
      "[1 0 1 0 1 0 1 0]\n"
     ]
    }
   ],
   "source": [
    "# funkcja where\n",
    "x = np.arange(2, 10, 1)\n",
    "# wybieramy tylko liczby parzyste\n",
    "y = np.where(x % 2 == 0, 1, 0)\n",
    "print(x)\n",
    "print(y)"
   ]
  },
  {
   "cell_type": "code",
   "execution_count": 36,
   "metadata": {},
   "outputs": [
    {
     "name": "stdout",
     "output_type": "stream",
     "text": [
      "Unikalne wartości dla listy x: [ 0  4 10 11]\n"
     ]
    }
   ],
   "source": [
    "# funkcja unique\n",
    "x = [0, 11, 0, 4, 10, 11, 4]\n",
    "print(f'Unikalne wartości dla listy x: {np.unique(x)}')"
   ]
  },
  {
   "cell_type": "code",
   "execution_count": 37,
   "metadata": {},
   "outputs": [],
   "source": [
    "# więcej znajdziecie w dokumentacji biblioteki (albo wpisując to, co chcecie zrobić w googla)"
   ]
  }
 ],
 "metadata": {
  "kernelspec": {
   "display_name": "Python 3",
   "language": "python",
   "name": "python3"
  },
  "language_info": {
   "codemirror_mode": {
    "name": "ipython",
    "version": 3
   },
   "file_extension": ".py",
   "mimetype": "text/x-python",
   "name": "python",
   "nbconvert_exporter": "python",
   "pygments_lexer": "ipython3",
   "version": "3.8.2"
  }
 },
 "nbformat": 4,
 "nbformat_minor": 4
}
