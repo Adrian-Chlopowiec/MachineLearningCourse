{
 "cells": [
  {
   "cell_type": "markdown",
   "metadata": {},
   "source": [
    "# Podstawowe typy danych"
   ]
  },
  {
   "cell_type": "code",
   "execution_count": 55,
   "metadata": {},
   "outputs": [
    {
     "name": "stdout",
     "output_type": "stream",
     "text": [
      "<class 'int'>\n",
      "<class 'float'>\n",
      "<class 'complex'>\n"
     ]
    }
   ],
   "source": [
    "# typy numeryczne\n",
    "# typ int, liczba całkowita\n",
    "a = 5\n",
    "# typ float, liczba zmiennoprzecinkowa\n",
    "b = 3.2\n",
    "# typ complex, liczba zespolona\n",
    "c = 1 + 2j\n",
    "print(type(a))\n",
    "print(type(b))\n",
    "print(type(c))"
   ]
  },
  {
   "cell_type": "code",
   "execution_count": 56,
   "metadata": {},
   "outputs": [
    {
     "name": "stdout",
     "output_type": "stream",
     "text": [
      "8.2\n",
      "(4-2j)\n",
      "True\n"
     ]
    }
   ],
   "source": [
    "# typy numeryczne możemy do siebie dowolnie dodawać, odejmować, mnożyć  i porównywać (oczywiście z wyłączeniem zespolonych) etc.\n",
    "print(a + b)\n",
    "print(a - c)\n",
    "print(a > b)"
   ]
  },
  {
   "cell_type": "code",
   "execution_count": 58,
   "metadata": {},
   "outputs": [
    {
     "name": "stdout",
     "output_type": "stream",
     "text": [
      "<class 'str'>\n",
      "Napis\n"
     ]
    }
   ],
   "source": [
    "# string, łańcuch znaków\n",
    "string = 'Napis'\n",
    "print(type(string))\n",
    "print(string)"
   ]
  },
  {
   "cell_type": "code",
   "execution_count": 60,
   "metadata": {},
   "outputs": [
    {
     "name": "stdout",
     "output_type": "stream",
     "text": [
      "<class 'str'>\n",
      "<class 'str'>\n",
      "To 'jest' string\n",
      "To \"jest\" string\n"
     ]
    }
   ],
   "source": [
    "# string to łańcuch znaków, będziemy mogli po nim iterować\n",
    "# stringi możemy deklarować na dwa sposoby:\n",
    "# używająć znanych z innych języków programowania \"\"\n",
    "string1 = \"To 'jest' string\"\n",
    "# używając ''\n",
    "string2 = 'To \"jest\" string'\n",
    "print(type(string1))\n",
    "print(type(string2))\n",
    "print(string1)\n",
    "print(string2)"
   ]
  },
  {
   "cell_type": "code",
   "execution_count": 62,
   "metadata": {},
   "outputs": [
    {
     "name": "stdout",
     "output_type": "stream",
     "text": [
      "A jest równe: {a}\n"
     ]
    }
   ],
   "source": [
    "# formatowanie stringów\n",
    "# najwygodniejsza i najbardziej elegancka metoda\n",
    "a = 10\n",
    "formated_string = f'A jest równe: {a}'\n",
    "print(formated_string)"
   ]
  },
  {
   "cell_type": "code",
   "execution_count": 64,
   "metadata": {},
   "outputs": [
    {
     "name": "stdout",
     "output_type": "stream",
     "text": [
      "\tTo jest napis\n",
      "\n",
      "To jest \n",
      "w nowej linii\n"
     ]
    }
   ],
   "source": [
    "# za pomocą znaku '\\' tworzymy często znaki specjalne takie jak nowa linia ('\\n') lub tab ('\\t')\n",
    "str_tab = '\\tTo jest napis'\n",
    "str_nl = '\\nTo jest \\nw nowej linii'\n",
    "print(str_tab)\n",
    "print(str_nl)"
   ]
  },
  {
   "cell_type": "code",
   "execution_count": 66,
   "metadata": {},
   "outputs": [
    {
     "name": "stdout",
     "output_type": "stream",
     "text": [
      "To \\njest napis\n"
     ]
    }
   ],
   "source": [
    "# aby Python potraktował backslash jak normalny znak należy dodać przedrostek 'r' (raw)\n",
    "# przydatne przy ścieżkach np w windowsie\n",
    "str_raw = r'To \\njest napis'\n",
    "print(str_raw)"
   ]
  },
  {
   "cell_type": "code",
   "execution_count": 68,
   "metadata": {},
   "outputs": [
    {
     "name": "stdout",
     "output_type": "stream",
     "text": [
      "\n",
      "Cokolwiek\n",
      "Tu \n",
      "Napisze\n",
      "Będzie\n",
      "W takiej\n",
      "Formie\n",
      "\n"
     ]
    }
   ],
   "source": [
    "# możemy tworzyć takie rozbudowane stringi, które łatwiej się formatuje, lub używa się ich do dokumentacji\n",
    "big_string = '''\n",
    "Cokolwiek\n",
    "Tu \n",
    "Napisze\n",
    "Będzie\n",
    "W takiej\n",
    "Formie\n",
    "'''\n",
    "print(big_string)"
   ]
  },
  {
   "cell_type": "code",
   "execution_count": 9,
   "metadata": {},
   "outputs": [
    {
     "name": "stdout",
     "output_type": "stream",
     "text": [
      "<class 'bool'>\n",
      "<class 'bool'>\n"
     ]
    }
   ],
   "source": [
    "# boolean, prawda-fałsz\n",
    "boolean = True\n",
    "boolean2 = False\n",
    "print(type(boolean))\n",
    "print(type(boolean2))"
   ]
  },
  {
   "cell_type": "code",
   "execution_count": 10,
   "metadata": {},
   "outputs": [
    {
     "name": "stdout",
     "output_type": "stream",
     "text": [
      "<class 'NoneType'>\n"
     ]
    }
   ],
   "source": [
    "# typ None, nic nie robi \n",
    "nic = None\n",
    "print(type(nic))"
   ]
  },
  {
   "cell_type": "code",
   "execution_count": 69,
   "metadata": {},
   "outputs": [
    {
     "name": "stdout",
     "output_type": "stream",
     "text": [
      "['Napis', 'Drugi napis']\n",
      "[]\n",
      "[1, 'napis']\n"
     ]
    }
   ],
   "source": [
    "# lista\n",
    "# lista to typ złożony, który służy do przechowywania elementów\n",
    "# w Pythonie lista domyślnie jest array listą, nie trzeba deklarować ilości elementów\n",
    "# sposoby tworzenia listy\n",
    "lista1 = ['Napis', 'Drugi napis']\n",
    "lista2 = []\n",
    "lista3 = [1, 'napis']\n",
    "print(lista1)\n",
    "print(lista2)\n",
    "print(lista3)"
   ]
  },
  {
   "cell_type": "code",
   "execution_count": 70,
   "metadata": {},
   "outputs": [
    {
     "name": "stdout",
     "output_type": "stream",
     "text": [
      "['Napis', 'Drugi napis', 'Trzeci napis']\n"
     ]
    }
   ],
   "source": [
    "# do listy możemy coś dodać metodą append\n",
    "lista1.append('Trzeci napis')\n",
    "print(lista1)"
   ]
  },
  {
   "cell_type": "code",
   "execution_count": 71,
   "metadata": {},
   "outputs": [
    {
     "name": "stdout",
     "output_type": "stream",
     "text": [
      "['Drugi napis', 'Trzeci napis']\n"
     ]
    }
   ],
   "source": [
    "# można też cos usunąć metodą remove\n",
    "lista1.remove('Napis')\n",
    "print(lista1)"
   ]
  },
  {
   "cell_type": "code",
   "execution_count": 14,
   "metadata": {},
   "outputs": [
    {
     "name": "stdout",
     "output_type": "stream",
     "text": [
      "2\n"
     ]
    }
   ],
   "source": [
    "# długość listy zyskujemy metodą len\n",
    "print(len(lista1))"
   ]
  },
  {
   "cell_type": "code",
   "execution_count": 73,
   "metadata": {},
   "outputs": [
    {
     "name": "stdout",
     "output_type": "stream",
     "text": [
      "C\n"
     ]
    }
   ],
   "source": [
    "# do elementów listy możemy się dostać za pomocą indeksu (OD ZERA NUMERUJEMY)\n",
    "#       [ 0 ,  1,   2,   3,   4]\n",
    "lista = ['A', 'B', 'C', 'D', 'E']\n",
    "print(lista[2])"
   ]
  },
  {
   "cell_type": "code",
   "execution_count": 74,
   "metadata": {},
   "outputs": [
    {
     "name": "stdout",
     "output_type": "stream",
     "text": [
      "E\n"
     ]
    }
   ],
   "source": [
    "# mamy też indeksy ujemne\n",
    "#        [-5 , -4,  -3,  -2,  -1]\n",
    "#lista = ['A', 'B', 'C', 'D', 'E']\n",
    "print(lista[-1])"
   ]
  },
  {
   "cell_type": "code",
   "execution_count": 75,
   "metadata": {},
   "outputs": [
    {
     "name": "stdout",
     "output_type": "stream",
     "text": [
      "['C', 'D']\n",
      "['C', 'D', 'E']\n"
     ]
    }
   ],
   "source": [
    "# możemy wybrać elementy od indeksu (włącznie) do indeksu drugiego(ALE BEZ NIEGO)\n",
    "print(lista[2:4])\n",
    "print(lista[2:])"
   ]
  },
  {
   "cell_type": "code",
   "execution_count": 76,
   "metadata": {},
   "outputs": [
    {
     "name": "stdout",
     "output_type": "stream",
     "text": [
      "['D', 'E']\n",
      "['B', 'C']\n"
     ]
    }
   ],
   "source": [
    "# tak, w drugą stronę też się da\n",
    "print(lista[-2:])\n",
    "print(lista[-4:-2])"
   ]
  },
  {
   "cell_type": "code",
   "execution_count": 77,
   "metadata": {},
   "outputs": [
    {
     "name": "stdout",
     "output_type": "stream",
     "text": [
      "('To', 'Jest', 'Tupla')\n"
     ]
    }
   ],
   "source": [
    "# tuple (krotka)\n",
    "# tupli nie można zmieniać (można zmieniać obiekty będące jej zawartością)\n",
    "tupla = ('To', 'Jest', 'Tupla')\n",
    "print(tupla)"
   ]
  },
  {
   "cell_type": "code",
   "execution_count": 78,
   "metadata": {},
   "outputs": [
    {
     "name": "stdout",
     "output_type": "stream",
     "text": [
      "To\n",
      "('To', 'Jest')\n"
     ]
    }
   ],
   "source": [
    "# też możemy działać indeksami\n",
    "print(tupla[0])\n",
    "print(tupla[:2])"
   ]
  },
  {
   "cell_type": "code",
   "execution_count": 82,
   "metadata": {},
   "outputs": [
    {
     "name": "stdout",
     "output_type": "stream",
     "text": [
      "Object\n"
     ]
    }
   ],
   "source": [
    "# słownik \n",
    "# zbiór par klucz : obiekt\n",
    "dictionary = {'Key': 'Object', 'Kluczyk': [1, 2, 3]}\n",
    "print(dictionary['Key'])"
   ]
  },
  {
   "cell_type": "markdown",
   "metadata": {},
   "source": [
    "# Warunki"
   ]
  },
  {
   "cell_type": "code",
   "execution_count": 83,
   "metadata": {},
   "outputs": [
    {
     "name": "stdout",
     "output_type": "stream",
     "text": [
      "10\n"
     ]
    }
   ],
   "source": [
    "a = 10\n",
    "# instrukcja if\n",
    "if a == 10:\n",
    "    print('10')"
   ]
  },
  {
   "cell_type": "code",
   "execution_count": 84,
   "metadata": {},
   "outputs": [
    {
     "name": "stdout",
     "output_type": "stream",
     "text": [
      "Fałsz\n"
     ]
    }
   ],
   "source": [
    "# instrukcja else\n",
    "if a == 11:\n",
    "    print('Prawda')\n",
    "else:\n",
    "    print('Fałsz')"
   ]
  },
  {
   "cell_type": "code",
   "execution_count": 87,
   "metadata": {},
   "outputs": [
    {
     "name": "stdout",
     "output_type": "stream",
     "text": [
      "A jest inne\n"
     ]
    }
   ],
   "source": [
    "# instrukcja elif\n",
    "a = 10\n",
    "if a == 9:\n",
    "    print('A to 9')\n",
    "elif a == 10:\n",
    "    print('A to 10')\n",
    "else:\n",
    "    print('A jest inne')"
   ]
  },
  {
   "cell_type": "code",
   "execution_count": 89,
   "metadata": {},
   "outputs": [
    {
     "name": "stdout",
     "output_type": "stream",
     "text": [
      "B\n"
     ]
    }
   ],
   "source": [
    "# operatory logiczne\n",
    "a = True\n",
    "b = False\n",
    "if a and b:\n",
    "    print('A')\n",
    "elif a or b:\n",
    "    print('B')\n",
    "else:\n",
    "    print('C')"
   ]
  },
  {
   "cell_type": "code",
   "execution_count": 90,
   "metadata": {},
   "outputs": [
    {
     "name": "stdout",
     "output_type": "stream",
     "text": [
      "Coś tam\n"
     ]
    }
   ],
   "source": [
    "# negacja\n",
    "if not b:\n",
    "    print('Coś tam')\n",
    "else:\n",
    "    print('Inne coś')"
   ]
  },
  {
   "cell_type": "markdown",
   "metadata": {},
   "source": [
    "# Pętle"
   ]
  },
  {
   "cell_type": "code",
   "execution_count": 91,
   "metadata": {},
   "outputs": [
    {
     "name": "stdout",
     "output_type": "stream",
     "text": [
      "A\n",
      "B\n",
      "C\n",
      "D\n",
      "E\n"
     ]
    }
   ],
   "source": [
    "# pętla for\n",
    "lista = ['A', 'B', 'C', 'D', 'E']\n",
    "for element in lista:\n",
    "    print(element)"
   ]
  },
  {
   "cell_type": "code",
   "execution_count": 97,
   "metadata": {},
   "outputs": [
    {
     "name": "stdout",
     "output_type": "stream",
     "text": [
      "0\n",
      "1\n",
      "2\n",
      "3\n",
      "4\n"
     ]
    }
   ],
   "source": [
    "# możemy też mieć te kochane 'i'\n",
    "for i in range(5):\n",
    "    print(i)"
   ]
  },
  {
   "cell_type": "code",
   "execution_count": 93,
   "metadata": {},
   "outputs": [
    {
     "name": "stdout",
     "output_type": "stream",
     "text": [
      "A\n",
      "B\n",
      "C\n",
      "D\n",
      "E\n"
     ]
    }
   ],
   "source": [
    "for i in range(len(lista)):\n",
    "    print(lista[i])"
   ]
  },
  {
   "cell_type": "code",
   "execution_count": 98,
   "metadata": {},
   "outputs": [
    {
     "name": "stdout",
     "output_type": "stream",
     "text": [
      "Jeszcze nie\n",
      "Jeszcze nie\n",
      "Jeszcze nie\n",
      "Jeszcze nie\n",
      "Jeszcze nie\n",
      "Jeszcze nie\n",
      "Jeszcze nie\n",
      "Jeszcze nie\n",
      "Jeszcze nie\n",
      "Jeszcze nie\n",
      "Już\n"
     ]
    }
   ],
   "source": [
    "# pętla while\n",
    "i = 0\n",
    "while i != 10:\n",
    "    print('Jeszcze nie')\n",
    "    i += 1\n",
    "print('Już')"
   ]
  },
  {
   "cell_type": "markdown",
   "metadata": {},
   "source": [
    "# Funkcje"
   ]
  },
  {
   "cell_type": "code",
   "execution_count": 99,
   "metadata": {},
   "outputs": [],
   "source": [
    "# funkcję definiujemy następująco\n",
    "def funkcja(parametr):\n",
    "    print(parametr)\n",
    "    print('Jestem funkcją i coś robię')"
   ]
  },
  {
   "cell_type": "code",
   "execution_count": 102,
   "metadata": {},
   "outputs": [
    {
     "name": "stdout",
     "output_type": "stream",
     "text": [
      "Parametr\n",
      "Jestem funkcją i coś robię\n"
     ]
    }
   ],
   "source": [
    "# teraż możemy jej użyć ile razy chcemy\n",
    "funkcja('Parametr')"
   ]
  },
  {
   "cell_type": "code",
   "execution_count": 103,
   "metadata": {},
   "outputs": [],
   "source": [
    "# funkcja może coś zwracać\n",
    "def multiply(a, b):\n",
    "    print('Mnożę')\n",
    "    return a * b"
   ]
  },
  {
   "cell_type": "code",
   "execution_count": 104,
   "metadata": {},
   "outputs": [
    {
     "name": "stdout",
     "output_type": "stream",
     "text": [
      "Mnożę\n"
     ]
    }
   ],
   "source": [
    "wynik = multiply(2, 3)"
   ]
  },
  {
   "cell_type": "code",
   "execution_count": 105,
   "metadata": {},
   "outputs": [
    {
     "name": "stdout",
     "output_type": "stream",
     "text": [
      "6\n"
     ]
    }
   ],
   "source": [
    "print(wynik)"
   ]
  },
  {
   "cell_type": "code",
   "execution_count": 113,
   "metadata": {},
   "outputs": [],
   "source": [
    "def funkcja2(a, b, c=10):\n",
    "    return a + b + c"
   ]
  },
  {
   "cell_type": "code",
   "execution_count": 114,
   "metadata": {},
   "outputs": [
    {
     "name": "stdout",
     "output_type": "stream",
     "text": [
      "7\n"
     ]
    }
   ],
   "source": [
    "print(funkcja2(2, 4, c=1))"
   ]
  },
  {
   "cell_type": "markdown",
   "metadata": {},
   "source": [
    "# Importy"
   ]
  },
  {
   "cell_type": "code",
   "execution_count": 36,
   "metadata": {},
   "outputs": [],
   "source": [
    "# bibliotekę (np.math) importujemy używająć składni\n",
    "import math"
   ]
  },
  {
   "cell_type": "code",
   "execution_count": 37,
   "metadata": {},
   "outputs": [
    {
     "name": "stdout",
     "output_type": "stream",
     "text": [
      "0.9092974268256817\n"
     ]
    }
   ],
   "source": [
    "print(math.sin(2))"
   ]
  },
  {
   "cell_type": "code",
   "execution_count": 38,
   "metadata": {},
   "outputs": [],
   "source": [
    "# możemy coś zaimportować i nadać temu nazwę\n",
    "import math as m"
   ]
  },
  {
   "cell_type": "code",
   "execution_count": 39,
   "metadata": {},
   "outputs": [
    {
     "name": "stdout",
     "output_type": "stream",
     "text": [
      "0.9092974268256817\n"
     ]
    }
   ],
   "source": [
    "print(m.sin(2))"
   ]
  },
  {
   "cell_type": "code",
   "execution_count": 40,
   "metadata": {},
   "outputs": [],
   "source": [
    "# możemy zaimportować konkretny moduł/klasę/funkcję...\n",
    "from math import sin"
   ]
  },
  {
   "cell_type": "code",
   "execution_count": 41,
   "metadata": {},
   "outputs": [
    {
     "name": "stdout",
     "output_type": "stream",
     "text": [
      "0.9092974268256817\n"
     ]
    }
   ],
   "source": [
    "print(sin(2))"
   ]
  },
  {
   "cell_type": "code",
   "execution_count": 42,
   "metadata": {},
   "outputs": [
    {
     "name": "stdout",
     "output_type": "stream",
     "text": [
      "0.9092974268256817\n"
     ]
    }
   ],
   "source": [
    "# ...i nadać temu nazwę\n",
    "from math import sin as sinus\n",
    "print(sinus(2))"
   ]
  },
  {
   "cell_type": "markdown",
   "metadata": {},
   "source": [
    "# Programowanie obiektowe"
   ]
  },
  {
   "cell_type": "code",
   "execution_count": 43,
   "metadata": {},
   "outputs": [],
   "source": [
    "# stwórzmy klasę\n",
    "class Piesek:\n",
    "    \n",
    "    # konstruktor\n",
    "    def __init__(self, imie, kolor):\n",
    "        # domyślnie pola są publiczne\n",
    "        self.imie = imie\n",
    "        self.kolor = kolor\n",
    "        \n",
    "    # metoda\n",
    "    def szczeknij(self):\n",
    "        print('Szczek Szczek')"
   ]
  },
  {
   "cell_type": "code",
   "execution_count": 44,
   "metadata": {},
   "outputs": [],
   "source": [
    "# teraz możemy tworzyć obiekty tej klasy\n",
    "pies1 = Piesek('Reksio', 'Czarny')\n",
    "pies2 = Piesek('Burek', 'Żółty')"
   ]
  },
  {
   "cell_type": "code",
   "execution_count": 45,
   "metadata": {},
   "outputs": [
    {
     "name": "stdout",
     "output_type": "stream",
     "text": [
      "Szczek Szczek\n"
     ]
    }
   ],
   "source": [
    "# możemy użyć metody\n",
    "pies1.szczeknij()"
   ]
  },
  {
   "cell_type": "code",
   "execution_count": 46,
   "metadata": {},
   "outputs": [
    {
     "name": "stdout",
     "output_type": "stream",
     "text": [
      "Reksio\n"
     ]
    }
   ],
   "source": [
    "# możemy uzyskać dostęp do pól tego pieska\n",
    "print(pies1.imie)"
   ]
  },
  {
   "cell_type": "code",
   "execution_count": 47,
   "metadata": {},
   "outputs": [],
   "source": [
    "# pól możemy używać w całym obiekcie\n",
    "class Smok:\n",
    "    \n",
    "    def __init__(self, imie, kolor):\n",
    "        self.imie = imie\n",
    "        self.kolor = kolor\n",
    "    \n",
    "    def przedstaw_sie(self):\n",
    "        print(f'Dzień dobry, jestem {self.imie}')\n",
    "        \n",
    "    def zion_ogniem(self, mocno=True):\n",
    "        if mocno:\n",
    "            print('Smok zionie ogniem mocno')\n",
    "        else:\n",
    "            print('Smok zionie ogniem, ale tak leciutko')"
   ]
  },
  {
   "cell_type": "code",
   "execution_count": 48,
   "metadata": {},
   "outputs": [
    {
     "name": "stdout",
     "output_type": "stream",
     "text": [
      "Dzień dobry, jestem Smoczuś\n"
     ]
    }
   ],
   "source": [
    "smok = Smok('Smoczuś', 'Niebieski')\n",
    "smok.przedstaw_sie()"
   ]
  },
  {
   "cell_type": "code",
   "execution_count": 49,
   "metadata": {},
   "outputs": [
    {
     "name": "stdout",
     "output_type": "stream",
     "text": [
      "Smok zionie ogniem mocno\n"
     ]
    }
   ],
   "source": [
    "smok.zion_ogniem()"
   ]
  },
  {
   "cell_type": "code",
   "execution_count": 50,
   "metadata": {},
   "outputs": [
    {
     "name": "stdout",
     "output_type": "stream",
     "text": [
      "Smok zionie ogniem, ale tak leciutko\n"
     ]
    }
   ],
   "source": [
    "smok.zion_ogniem(mocno=False)"
   ]
  },
  {
   "cell_type": "code",
   "execution_count": null,
   "metadata": {},
   "outputs": [],
   "source": []
  }
 ],
 "metadata": {
  "kernelspec": {
   "display_name": "Python 3",
   "language": "python",
   "name": "python3"
  },
  "language_info": {
   "codemirror_mode": {
    "name": "ipython",
    "version": 3
   },
   "file_extension": ".py",
   "mimetype": "text/x-python",
   "name": "python",
   "nbconvert_exporter": "python",
   "pygments_lexer": "ipython3",
   "version": "3.8.2"
  }
 },
 "nbformat": 4,
 "nbformat_minor": 4
}
