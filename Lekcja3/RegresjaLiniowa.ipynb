{
 "cells": [
  {
   "cell_type": "code",
   "execution_count": 1,
   "metadata": {},
   "outputs": [],
   "source": [
    "import numpy as np\n",
    "import matplotlib.pyplot as plt"
   ]
  },
  {
   "cell_type": "markdown",
   "metadata": {},
   "source": [
    "# Zapoznanie się z danymi"
   ]
  },
  {
   "cell_type": "code",
   "execution_count": 2,
   "metadata": {},
   "outputs": [],
   "source": [
    "height = np.array([[167, 172, 175, 179, 180, 181, 184, 188, 190]]).reshape(-1, 1)\n",
    "weight = np.array([67, 73, 72, 77, 80, 84, 84, 87, 91])\n",
    "height_test = np.array([[159, 200, 164, 176, 199]]).reshape(-1, 1)"
   ]
  },
  {
   "cell_type": "code",
   "execution_count": 3,
   "metadata": {},
   "outputs": [
    {
     "data": {
      "image/png": "[encoded data removed]",
      "text/plain": [
       "<Figure size 432x288 with 1 Axes>"
      ]
     },
     "metadata": {
      "needs_background": "light"
     },
     "output_type": "display_data"
    }
   ],
   "source": [
    "plt.scatter(height, weight, color='blue')\n",
    "plt.xlabel('Wzrost [cm]')\n",
    "plt.ylabel('Waga [kg]')\n",
    "plt.show()"
   ]
  },
  {
   "cell_type": "markdown",
   "metadata": {},
   "source": [
    "# Standaryzowanie danych"
   ]
  },
  {
   "cell_type": "code",
   "execution_count": 4,
   "metadata": {},
   "outputs": [],
   "source": [
    "def scale_data(train_data, test_data):\n",
    "    std = train_data.std()\n",
    "    mean = train_data.mean()\n",
    "    return (train_data - mean) / std, (test_data - mean) / std"
   ]
  },
  {
   "cell_type": "code",
   "execution_count": 5,
   "metadata": {},
   "outputs": [],
   "source": [
    "height, height_test = scale_data(height, height_test)"
   ]
  },
  {
   "cell_type": "code",
   "execution_count": 6,
   "metadata": {},
   "outputs": [
    {
     "data": {
      "image/png": "[encoded data removed]",
      "text/plain": [
       "<Figure size 432x288 with 1 Axes>"
      ]
     },
     "metadata": {
      "needs_background": "light"
     },
     "output_type": "display_data"
    }
   ],
   "source": [
    "plt.scatter(height, weight, color='blue')\n",
    "plt.xlabel('Wzrost [cm]')\n",
    "plt.ylabel('Waga [kg]')\n",
    "plt.show()"
   ]
  },
  {
   "cell_type": "markdown",
   "metadata": {},
   "source": [
    "# Implementacja algorytmu"
   ]
  },
  {
   "cell_type": "code",
   "execution_count": 7,
   "metadata": {},
   "outputs": [],
   "source": [
    "class LinearRegression:\n",
    "    \n",
    "    def __init__(self, eta=0.01, n_iters=10):\n",
    "        self.eta = eta\n",
    "        self.n_iters = n_iters\n",
    "        self.w = None\n",
    "        self.b = None\n",
    "        \n",
    "    def fit(self, X, y):\n",
    "        n_samples, n_features = X.shape\n",
    "        # inicjalizujemy wagi\n",
    "        self.w = np.random.sample(n_features)\n",
    "        self.b = np.random.sample()\n",
    "        cost_ = []\n",
    "        for i in range(self.n_iters):\n",
    "            # przewidujemy wartość\n",
    "            y_pred = self.predict(X)\n",
    "            # liczymy wartość funkcji kosztu\n",
    "            cost = self.__loss(y, y_pred)\n",
    "            # liczymy średni błąd \n",
    "            error = (y_pred - y) / n_samples\n",
    "            # aktualizujemy wagi\n",
    "            self.w -= self.eta * np.dot(X.T, error)\n",
    "            self.b -= self.eta * error.sum()\n",
    "            cost_.append(cost)\n",
    "        return cost_\n",
    "            \n",
    "    \n",
    "    def predict(self, X):\n",
    "        return np.dot(X, self.w) + self.b\n",
    "    \n",
    "    def __loss(self, y_true, y_pred):\n",
    "        return ((y_true - y_pred) ** 2).mean() / 2\n",
    "    "
   ]
  },
  {
   "cell_type": "markdown",
   "metadata": {},
   "source": [
    "# Trenowanie algorytmu"
   ]
  },
  {
   "cell_type": "code",
   "execution_count": 8,
   "metadata": {},
   "outputs": [],
   "source": [
    "n_iters = 100\n",
    "lr = LinearRegression(eta=0.1, n_iters=n_iters)"
   ]
  },
  {
   "cell_type": "code",
   "execution_count": 9,
   "metadata": {},
   "outputs": [],
   "source": [
    "loss = lr.fit(height, weight)"
   ]
  },
  {
   "cell_type": "code",
   "execution_count": 10,
   "metadata": {},
   "outputs": [
    {
     "data": {
      "image/png": "[encoded data removed]",
      "text/plain": [
       "<Figure size 432x288 with 1 Axes>"
      ]
     },
     "metadata": {
      "needs_background": "light"
     },
     "output_type": "display_data"
    }
   ],
   "source": [
    "plt.plot(np.arange(0, n_iters, 1), loss)\n",
    "plt.xlabel('Iteracja')\n",
    "plt.ylabel('Koszt')\n",
    "plt.show()"
   ]
  },
  {
   "cell_type": "markdown",
   "metadata": {},
   "source": [
    "# Przewidywanie wartości"
   ]
  },
  {
   "cell_type": "code",
   "execution_count": 11,
   "metadata": {},
   "outputs": [
    {
     "name": "stdout",
     "output_type": "stream",
     "text": [
      "Wzorst: -2.945800118255477 cm, przwidziana waga: 58.2514504087783 kg\n",
      "Wzorst: 2.9298768743730186 cm, przwidziana waga: 100.51867639447556 kg\n",
      "Wzorst: -2.229254143544685 cm, przwidziana waga: 63.40599016313162 kg\n",
      "Wzorst: -0.5095438042387838 cm, przwidziana waga: 75.7768855735796 kg\n",
      "Wzorst: 2.7865676794308603 cm, przwidziana waga: 99.48776844360489 kg\n"
     ]
    }
   ],
   "source": [
    "pred = lr.predict(height_test)\n",
    "for height_, pred_weight_ in zip(height_test.reshape(1, -1)[0], pred):\n",
    "    print(f'Wzorst: {height_} cm, przwidziana waga: {pred_weight_} kg')"
   ]
  },
  {
   "cell_type": "code",
   "execution_count": 12,
   "metadata": {},
   "outputs": [],
   "source": [
    "x = np.arange(-4, 4, 0.01)\n",
    "y = lr.predict(x.reshape(-1,1))"
   ]
  },
  {
   "cell_type": "code",
   "execution_count": 13,
   "metadata": {},
   "outputs": [
    {
     "data": {
      "image/png": "[encoded data removed]",
      "text/plain": [
       "<Figure size 432x288 with 1 Axes>"
      ]
     },
     "metadata": {
      "needs_background": "light"
     },
     "output_type": "display_data"
    }
   ],
   "source": [
    "# rysujemy wykres \n",
    "plt.title(f'Funkcja: {round(lr.w[0], 2)}x + {round(lr.b, 2)}')\n",
    "plt.scatter(height, weight, color='blue')\n",
    "plt.scatter(height_test, pred, color='lightgreen')\n",
    "plt.plot(x, y, color='red')\n",
    "plt.xlabel('Wysokość (standaryzowana)')\n",
    "plt.ylabel('Waga')\n",
    "plt.show()"
   ]
  },
  {
   "cell_type": "code",
   "execution_count": null,
   "metadata": {},
   "outputs": [],
   "source": []
  },
  {
   "cell_type": "code",
   "execution_count": null,
   "metadata": {},
   "outputs": [],
   "source": []
  }
 ],
 "metadata": {
  "kernelspec": {
   "display_name": "Python 3",
   "language": "python",
   "name": "python3"
  },
  "language_info": {
   "codemirror_mode": {
    "name": "ipython",
    "version": 3
   },
   "file_extension": ".py",
   "mimetype": "text/x-python",
   "name": "python",
   "nbconvert_exporter": "python",
   "pygments_lexer": "ipython3",
   "version": "3.8.2"
  }
 },
 "nbformat": 4,
 "nbformat_minor": 4
}
